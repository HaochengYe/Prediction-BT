{
 "cells": [
  {
   "cell_type": "code",
   "execution_count": 1,
   "metadata": {},
   "outputs": [],
   "source": [
    "import pandas as pd\n",
    "import numpy as np\n",
    "import matplotlib.pyplot as plt\n",
    "import os\n",
    "from datetime import datetime\n",
    "import statsmodels.api as sm\n",
    "from sklearn.metrics import accuracy_score, mean_squared_error\n",
    "from sklearn.cross_decomposition import PLSRegression\n",
    "\n",
    "from Strategy import *"
   ]
  },
  {
   "cell_type": "code",
   "execution_count": 2,
   "metadata": {},
   "outputs": [
    {
     "data": {
      "text/plain": [
       "'y:\\\\GitHub\\\\Prediction-BT'"
      ]
     },
     "execution_count": 2,
     "metadata": {},
     "output_type": "execute_result"
    }
   ],
   "source": [
    "os.getcwd()"
   ]
  },
  {
   "cell_type": "code",
   "execution_count": 3,
   "metadata": {},
   "outputs": [],
   "source": [
    "df = pd.read_csv(\"Y:\\\\Dropbox\\\\Dropbox (MIT)\\\\Robinhood Trading\\\\Stock Data\\\\broader_stock.csv\")\n",
    "df = df.set_index(pd.to_datetime(df['Date']))\n",
    "df.drop(['Date'], axis=1, inplace=True)\n",
    "pct_df = df.pct_change().shift(1).iloc[2:]"
   ]
  },
  {
   "cell_type": "code",
   "execution_count": 6,
   "metadata": {},
   "outputs": [],
   "source": [
    "leader_tick_dict = {}\n",
    "leader_t_val = {}\n",
    "perf_res = {}\n",
    "w_mktre = (1+pct_df['SPY_Close']).resample('W').prod()-1"
   ]
  },
  {
   "cell_type": "code",
   "execution_count": 19,
   "metadata": {
    "scrolled": false
   },
   "outputs": [
    {
     "name": "stdout",
     "output_type": "stream",
     "text": [
      "TQQQ_Open\n",
      "AME_Open\n",
      "NOW_Open\n",
      "XYL_Open\n",
      "BAC_Open\n",
      "TGI_Open\n",
      "AMBC_Open\n",
      "NSP_Open\n",
      "MOS_Open\n",
      "MEI_Open\n"
     ]
    }
   ],
   "source": [
    "for tick in pct_df.columns[::3][:10]:\n",
    "    # picking leaders for each stocks\n",
    "    target_arr = pct_df[tick].dropna()\n",
    "    w_target = (1+target_arr).resample('W').prod()-1\n",
    "    Y = w_target.shift(-1)\n",
    "    leader_set = []\n",
    "    leader_tval = []\n",
    "\n",
    "    for leader in pct_df.columns[::3]:\n",
    "        if leader != tick:\n",
    "            leader_arr = pct_df[leader].dropna()\n",
    "            w_leader = (1+leader_arr).resample('W').prod()-1\n",
    "\n",
    "            tempreg_dta = pd.concat([Y, w_target, w_mktre, w_leader], axis=1).dropna()\n",
    "            tempreg_dta.columns = ['Y', 'Y-1', 'Mkt', 'Lead']\n",
    "\n",
    "            if tempreg_dta.shape[0] >= 36*4:\n",
    "                ols = sm.OLS(tempreg_dta['Y'].iloc[-36*4:], sm.add_constant(tempreg_dta[['Y-1', 'Mkt', 'Lead']].iloc[-36*4:]))\n",
    "                res = ols.fit(cov_type='HC0')\n",
    "                leader_sig = res.pvalues[3]\n",
    "\n",
    "            elif tempreg_dta.shape[0] >= 12*4:\n",
    "                ols = sm.OLS(tempreg_dta['Y'].iloc[-12*4:], sm.add_constant(tempreg_dta[['Y-1', 'Mkt', 'Lead']].iloc[-12*4:]))\n",
    "                res = ols.fit(cov_type='HC0')\n",
    "                leader_sig = res.pvalues[3]\n",
    "\n",
    "            else:\n",
    "                leader_sig = 1\n",
    "\n",
    "            if leader_sig <= 1e-3:\n",
    "                leader_set.append(leader)\n",
    "                leader_tval.append(abs(res.tvalues[3]))\n",
    "                \n",
    "    leader_tick_dict[tick] = leader_set\n",
    "    leader_t_val[tick] = leader_tval\n",
    "    \n",
    "    # evaluate performance\n",
    "    leader = leader_tick_dict[tick]\n",
    "    t_val = leader_t_val[tick]\n",
    "    if len(leader) > 1:\n",
    "        # simple average\n",
    "        avg_signal = ((1+pct_df[leader_tick_dict[tick]]).resample('W').prod()-1).mean(axis=1)\n",
    "        # only evaluate at short term period\n",
    "        val_avg = pd.concat([w_target.shift(1).iloc[-12*4:], avg_signal.iloc[-12*4:]], axis=1).dropna().values\n",
    "        # metrics\n",
    "        mu_avg = mean_squared_error(val_avg[:,0], val_avg[:,1]) * 100\n",
    "        acc_avg = accuracy_score((val_avg[:,0] > 0).astype(int), (val_avg[:,1] > 0).astype(int))\n",
    "        perf_res[tick] = [mu_avg, acc_avg]\n",
    "\n",
    "    print(tick)"
   ]
  },
  {
   "cell_type": "code",
   "execution_count": 20,
   "metadata": {
    "scrolled": true
   },
   "outputs": [
    {
     "name": "stdout",
     "output_type": "stream",
     "text": [
      "TQQQ_Open\n",
      "AME_Open\n",
      "NOW_Open\n",
      "XYL_Open\n",
      "BAC_Open\n",
      "TGI_Open\n",
      "AMBC_Open\n",
      "NSP_Open\n",
      "MOS_Open\n",
      "MEI_Open\n"
     ]
    }
   ],
   "source": [
    "perf_pls = {}\n",
    "\n",
    "for tick in leader_tick_dict.keys():\n",
    "    leader_arr = df[leader_tick_dict[tick]]\n",
    "    target_arr = pct_df[tick].dropna()\n",
    "    w_target = (1+target_arr).resample('W').prod()-1\n",
    "    pls_set = []\n",
    "    \n",
    "    for col in leader_arr.columns:\n",
    "        ind_arr = []\n",
    "        for t in range(leader_arr.shape[0]-300, leader_arr.shape[0]):\n",
    "            macd = MACD(leader_arr[col], 5, t)\n",
    "            booling = BoolingerBands(leader_arr[col], 5, t)\n",
    "            volcof = Vol_Coefficient(leader_arr[col], 5, t)\n",
    "            anvol = AnnVol(leader_arr[col], 5, t)\n",
    "            phl = Price_High_Low(leader_arr[col], 5, t)\n",
    "            prev = PriceReverse(leader_arr[col], 5, t)\n",
    "\n",
    "            ind_arr.append([macd, booling, volcof, anvol, phl, prev])\n",
    "\n",
    "        w_X = pd.DataFrame(data=ind_arr, index=leader_arr.index[-300:]).resample('W').mean()\n",
    "        temp_dta = pd.concat([w_target, w_X], axis=1).dropna().values[-12*4:,]\n",
    "        pls = PLSRegression(n_components=1)\n",
    "        pls_x = pls.fit_transform(X=temp_dta[:,1:], y=temp_dta[:,:1])[0]\n",
    "        pls_set.append(pls_x)\n",
    "    pls_X = np.column_stack(pls_set)\n",
    "\n",
    "    signal = np.mean(pls_X, axis=1)\n",
    "    actual = w_target.iloc[-49:-1]\n",
    "\n",
    "    mu_pls = mean_squared_error(actual, signal) * 100\n",
    "    acc_pls = accuracy_score((actual > 0).astype(int), (signal > 0).astype(int))\n",
    "    perf_pls[tick] = [mu_pls, acc_pls]\n",
    "\n",
    "    print(tick)"
   ]
  },
  {
   "cell_type": "code",
   "execution_count": 21,
   "metadata": {},
   "outputs": [
    {
     "data": {
      "text/plain": [
       "{'TQQQ_Open': [671.682768706513, 0.5625],\n",
       " 'AME_Open': [588.0171907992195, 0.5],\n",
       " 'NOW_Open': [25.990785524142645, 0.5208333333333334],\n",
       " 'XYL_Open': [1845.4789083562193, 0.5],\n",
       " 'BAC_Open': [1.593667465734277, 0.5208333333333334],\n",
       " 'TGI_Open': [3036.2663872424605, 0.4166666666666667],\n",
       " 'AMBC_Open': [37422.092516521145, 0.4375],\n",
       " 'NSP_Open': [0.7959617566583141, 0.4791666666666667],\n",
       " 'MOS_Open': [87.77176107966405, 0.5416666666666666],\n",
       " 'MEI_Open': [9364.190299619093, 0.5833333333333334]}"
      ]
     },
     "execution_count": 21,
     "metadata": {},
     "output_type": "execute_result"
    }
   ],
   "source": [
    "perf_res"
   ]
  },
  {
   "cell_type": "code",
   "execution_count": 22,
   "metadata": {},
   "outputs": [
    {
     "data": {
      "text/plain": [
       "{'TQQQ_Open': [35.03732705643465, 0.4791666666666667],\n",
       " 'AME_Open': [23.92922506458167, 0.6666666666666666],\n",
       " 'NOW_Open': [29.26142480277429, 0.4375],\n",
       " 'XYL_Open': [49.76875140889801, 0.4791666666666667],\n",
       " 'BAC_Open': [78.3036566264425, 0.6458333333333334],\n",
       " 'TGI_Open': [94.65649160810132, 0.5208333333333334],\n",
       " 'AMBC_Open': [153.54552832896297, 0.625],\n",
       " 'NSP_Open': [86.50051551619117, 0.5],\n",
       " 'MOS_Open': [51.58391759843811, 0.5208333333333334],\n",
       " 'MEI_Open': [43.114999919037075, 0.625]}"
      ]
     },
     "execution_count": 22,
     "metadata": {},
     "output_type": "execute_result"
    }
   ],
   "source": [
    "perf_pls"
   ]
  },
  {
   "cell_type": "code",
   "execution_count": 173,
   "metadata": {},
   "outputs": [],
   "source": []
  },
  {
   "cell_type": "code",
   "execution_count": null,
   "metadata": {},
   "outputs": [],
   "source": []
  }
 ],
 "metadata": {
  "kernelspec": {
   "display_name": "Python 3",
   "language": "python",
   "name": "python3"
  },
  "language_info": {
   "codemirror_mode": {
    "name": "ipython",
    "version": 3
   },
   "file_extension": ".py",
   "mimetype": "text/x-python",
   "name": "python",
   "nbconvert_exporter": "python",
   "pygments_lexer": "ipython3",
   "version": "3.7.10"
  }
 },
 "nbformat": 4,
 "nbformat_minor": 4
}
