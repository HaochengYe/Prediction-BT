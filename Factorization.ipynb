{
 "cells": [
  {
   "cell_type": "code",
   "execution_count": 129,
   "id": "fatal-visitor",
   "metadata": {},
   "outputs": [],
   "source": [
    "import pandas as pd\n",
    "import numpy as np\n",
    "import matplotlib.pyplot as plt\n",
    "import os\n",
    "from datetime import datetime\n",
    "import statsmodels.api as sm\n",
    "from sklearn.metrics import accuracy_score, mean_squared_error\n",
    "from sklearn.cross_decomposition import PLSRegression\n",
    "from sklearn.linear_model import LinearRegression, ElasticNetCV\n",
    "from sklearn.model_selection import train_test_split\n",
    "\n",
    "from Strategy import *"
   ]
  },
  {
   "cell_type": "code",
   "execution_count": 34,
   "id": "broken-automation",
   "metadata": {},
   "outputs": [],
   "source": [
    "df = pd.read_csv(\"Y:\\\\Dropbox\\\\Dropbox (MIT)\\\\Robinhood Trading\\\\Stock Data\\\\broader_stock.csv\")"
   ]
  },
  {
   "cell_type": "code",
   "execution_count": 35,
   "id": "nonprofit-wallet",
   "metadata": {},
   "outputs": [],
   "source": [
    "df = df.iloc[:-1]"
   ]
  },
  {
   "cell_type": "code",
   "execution_count": 36,
   "id": "governmental-nashville",
   "metadata": {},
   "outputs": [],
   "source": [
    "for tick in df.columns[1:]:\n",
    "    initpos = df[tick].first_valid_index()\n",
    "    df[tick].iloc[initpos:] = df[tick].iloc[initpos:].interpolate()"
   ]
  },
  {
   "cell_type": "code",
   "execution_count": 38,
   "id": "premium-newfoundland",
   "metadata": {},
   "outputs": [],
   "source": [
    "df = df.set_index(pd.to_datetime(df['Date']))\n",
    "df.drop(['Date'], axis=1, inplace=True)\n",
    "pct_df = df.pct_change().shift(1).iloc[2:]"
   ]
  },
  {
   "cell_type": "code",
   "execution_count": 96,
   "id": "buried-hollow",
   "metadata": {},
   "outputs": [],
   "source": [
    "train_dta, test_dta = train_test_split(pct_df, test_size=0.01, shuffle=False)"
   ]
  },
  {
   "cell_type": "markdown",
   "id": "republican-anniversary",
   "metadata": {},
   "source": [
    "### Partial out $R_m$ from individual return series\n",
    "Using only the past 200 observations"
   ]
  },
  {
   "cell_type": "code",
   "execution_count": 251,
   "id": "peripheral-respondent",
   "metadata": {},
   "outputs": [],
   "source": [
    "residual = []"
   ]
  },
  {
   "cell_type": "code",
   "execution_count": 252,
   "id": "confident-dimension",
   "metadata": {},
   "outputs": [],
   "source": [
    "for tick in train_dta.columns[::3][:40]:\n",
    "    rm = train_dta['SPY_Open']\n",
    "    rint = df['^TNX_Open'].loc[train_dta.index]\n",
    "    ri = train_dta[tick]\n",
    "    temp = pd.concat([ri, rm, rint], axis=1).dropna().iloc[-500:]\n",
    "\n",
    "    y = temp[temp.columns[0]].values\n",
    "    X = temp[temp.columns[1:]].values\n",
    "\n",
    "    reg = ElasticNetCV(cv=10, n_jobs=-1).fit(X, y)\n",
    "    yhat = reg.predict(X)\n",
    "    eps = y - yhat\n",
    "    residual.append(eps)"
   ]
  },
  {
   "cell_type": "code",
   "execution_count": 259,
   "id": "ordinary-multimedia",
   "metadata": {},
   "outputs": [],
   "source": [
    "RES = np.column_stack(residual)"
   ]
  },
  {
   "cell_type": "code",
   "execution_count": 243,
   "id": "legitimate-kuwait",
   "metadata": {},
   "outputs": [],
   "source": [
    "reglm = LinearRegression().fit(X,y)"
   ]
  },
  {
   "cell_type": "code",
   "execution_count": 244,
   "id": "solid-victim",
   "metadata": {},
   "outputs": [],
   "source": [
    "rm = test_dta['SPY_Open']\n",
    "rint = df['^TNX_Open'].loc[test_dta.index]\n",
    "ri = test_dta['V_Open']\n",
    "temp_test = pd.concat([ri, rm, rint], axis=1).dropna()"
   ]
  },
  {
   "cell_type": "code",
   "execution_count": 245,
   "id": "contrary-highlight",
   "metadata": {},
   "outputs": [],
   "source": [
    "y_test = temp_test[temp_test.columns[0]].values\n",
    "X_test = temp_test[temp_test.columns[1:]].values"
   ]
  },
  {
   "cell_type": "code",
   "execution_count": 246,
   "id": "dressed-diabetes",
   "metadata": {},
   "outputs": [
    {
     "data": {
      "text/plain": [
       "0.752122173966991"
      ]
     },
     "execution_count": 246,
     "metadata": {},
     "output_type": "execute_result"
    }
   ],
   "source": [
    "reg.score(X,y)"
   ]
  },
  {
   "cell_type": "code",
   "execution_count": 247,
   "id": "regular-central",
   "metadata": {},
   "outputs": [
    {
     "data": {
      "text/plain": [
       "0.7521238460816104"
      ]
     },
     "execution_count": 247,
     "metadata": {},
     "output_type": "execute_result"
    }
   ],
   "source": [
    "reglm.score(X, y)"
   ]
  },
  {
   "cell_type": "code",
   "execution_count": 248,
   "id": "driven-paper",
   "metadata": {},
   "outputs": [
    {
     "data": {
      "text/plain": [
       "0.2583277874678218"
      ]
     },
     "execution_count": 248,
     "metadata": {},
     "output_type": "execute_result"
    }
   ],
   "source": [
    "reg.score(X_test, y_test)"
   ]
  },
  {
   "cell_type": "code",
   "execution_count": 249,
   "id": "spatial-cricket",
   "metadata": {},
   "outputs": [
    {
     "data": {
      "text/plain": [
       "0.2582859063212264"
      ]
     },
     "execution_count": 249,
     "metadata": {},
     "output_type": "execute_result"
    }
   ],
   "source": [
    "reglm.score(X_test, y_test)"
   ]
  },
  {
   "cell_type": "code",
   "execution_count": null,
   "id": "posted-black",
   "metadata": {},
   "outputs": [],
   "source": []
  }
 ],
 "metadata": {
  "kernelspec": {
   "display_name": "Python 3",
   "language": "python",
   "name": "python3"
  },
  "language_info": {
   "codemirror_mode": {
    "name": "ipython",
    "version": 3
   },
   "file_extension": ".py",
   "mimetype": "text/x-python",
   "name": "python",
   "nbconvert_exporter": "python",
   "pygments_lexer": "ipython3",
   "version": "3.7.10"
  }
 },
 "nbformat": 4,
 "nbformat_minor": 5
}
