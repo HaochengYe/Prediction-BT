{
 "cells": [
  {
   "cell_type": "code",
   "execution_count": 1,
   "id": "alleged-mississippi",
   "metadata": {},
   "outputs": [],
   "source": [
    "import pandas as pd\n",
    "import numpy as np\n",
    "import matplotlib.pyplot as plt\n",
    "import os\n",
    "from datetime import datetime\n",
    "import statsmodels.api as sm\n",
    "from sklearn.metrics import accuracy_score, mean_squared_error\n",
    "from sklearn.cross_decomposition import PLSRegression\n",
    "\n",
    "from Strategy import *"
   ]
  },
  {
   "cell_type": "code",
   "execution_count": 2,
   "id": "threaded-highlight",
   "metadata": {},
   "outputs": [],
   "source": [
    "temp = []\n",
    "\n",
    "for i in range(4):\n",
    "    gc_res = pd.read_csv(\"Granger_Causality_Res%s.csv\" % i)\n",
    "    temp.append(gc_res)"
   ]
  },
  {
   "cell_type": "code",
   "execution_count": 3,
   "id": "absent-reader",
   "metadata": {},
   "outputs": [],
   "source": [
    "pred_res = pd.concat(temp, axis=0)"
   ]
  },
  {
   "cell_type": "code",
   "execution_count": 8,
   "id": "revolutionary-february",
   "metadata": {},
   "outputs": [
    {
     "data": {
      "text/html": [
       "<div>\n",
       "<style scoped>\n",
       "    .dataframe tbody tr th:only-of-type {\n",
       "        vertical-align: middle;\n",
       "    }\n",
       "\n",
       "    .dataframe tbody tr th {\n",
       "        vertical-align: top;\n",
       "    }\n",
       "\n",
       "    .dataframe thead th {\n",
       "        text-align: right;\n",
       "    }\n",
       "</style>\n",
       "<table border=\"1\" class=\"dataframe\">\n",
       "  <thead>\n",
       "    <tr style=\"text-align: right;\">\n",
       "      <th></th>\n",
       "      <th>Unnamed: 0</th>\n",
       "      <th>MSE_PLS</th>\n",
       "      <th>ACC_PLS</th>\n",
       "      <th>MSE_AVG</th>\n",
       "      <th>ACC_AVG</th>\n",
       "    </tr>\n",
       "  </thead>\n",
       "  <tbody>\n",
       "    <tr>\n",
       "      <th>34</th>\n",
       "      <td>PAR_Open</td>\n",
       "      <td>4.716669</td>\n",
       "      <td>0.729167</td>\n",
       "      <td>2.765642</td>\n",
       "      <td>0.520833</td>\n",
       "    </tr>\n",
       "    <tr>\n",
       "      <th>75</th>\n",
       "      <td>BRC_Open</td>\n",
       "      <td>35.017132</td>\n",
       "      <td>0.729167</td>\n",
       "      <td>1238.044656</td>\n",
       "      <td>0.479167</td>\n",
       "    </tr>\n",
       "    <tr>\n",
       "      <th>57</th>\n",
       "      <td>FMBI_Open</td>\n",
       "      <td>93.213371</td>\n",
       "      <td>0.708333</td>\n",
       "      <td>198.053992</td>\n",
       "      <td>0.500000</td>\n",
       "    </tr>\n",
       "    <tr>\n",
       "      <th>30</th>\n",
       "      <td>CEY_Open</td>\n",
       "      <td>46.210416</td>\n",
       "      <td>0.687500</td>\n",
       "      <td>3051.817179</td>\n",
       "      <td>0.541667</td>\n",
       "    </tr>\n",
       "    <tr>\n",
       "      <th>84</th>\n",
       "      <td>XEL_Open</td>\n",
       "      <td>34.931812</td>\n",
       "      <td>0.687500</td>\n",
       "      <td>15.654795</td>\n",
       "      <td>0.604167</td>\n",
       "    </tr>\n",
       "    <tr>\n",
       "      <th>...</th>\n",
       "      <td>...</td>\n",
       "      <td>...</td>\n",
       "      <td>...</td>\n",
       "      <td>...</td>\n",
       "      <td>...</td>\n",
       "    </tr>\n",
       "    <tr>\n",
       "      <th>29</th>\n",
       "      <td>VRTV_Open</td>\n",
       "      <td>55.040428</td>\n",
       "      <td>0.375000</td>\n",
       "      <td>2.538731</td>\n",
       "      <td>0.354167</td>\n",
       "    </tr>\n",
       "    <tr>\n",
       "      <th>42</th>\n",
       "      <td>HNI_Open</td>\n",
       "      <td>126.506448</td>\n",
       "      <td>0.375000</td>\n",
       "      <td>37381.889251</td>\n",
       "      <td>0.395833</td>\n",
       "    </tr>\n",
       "    <tr>\n",
       "      <th>10</th>\n",
       "      <td>PSB_Open</td>\n",
       "      <td>97.518874</td>\n",
       "      <td>0.354167</td>\n",
       "      <td>37570.645351</td>\n",
       "      <td>0.500000</td>\n",
       "    </tr>\n",
       "    <tr>\n",
       "      <th>11</th>\n",
       "      <td>JBSS_Open</td>\n",
       "      <td>54.202419</td>\n",
       "      <td>0.333333</td>\n",
       "      <td>37581.266664</td>\n",
       "      <td>0.458333</td>\n",
       "    </tr>\n",
       "    <tr>\n",
       "      <th>30</th>\n",
       "      <td>CONE_Open</td>\n",
       "      <td>90.962798</td>\n",
       "      <td>0.333333</td>\n",
       "      <td>37579.036959</td>\n",
       "      <td>0.520833</td>\n",
       "    </tr>\n",
       "  </tbody>\n",
       "</table>\n",
       "<p>359 rows × 5 columns</p>\n",
       "</div>"
      ],
      "text/plain": [
       "   Unnamed: 0     MSE_PLS   ACC_PLS       MSE_AVG   ACC_AVG\n",
       "34   PAR_Open    4.716669  0.729167      2.765642  0.520833\n",
       "75   BRC_Open   35.017132  0.729167   1238.044656  0.479167\n",
       "57  FMBI_Open   93.213371  0.708333    198.053992  0.500000\n",
       "30   CEY_Open   46.210416  0.687500   3051.817179  0.541667\n",
       "84   XEL_Open   34.931812  0.687500     15.654795  0.604167\n",
       "..        ...         ...       ...           ...       ...\n",
       "29  VRTV_Open   55.040428  0.375000      2.538731  0.354167\n",
       "42   HNI_Open  126.506448  0.375000  37381.889251  0.395833\n",
       "10   PSB_Open   97.518874  0.354167  37570.645351  0.500000\n",
       "11  JBSS_Open   54.202419  0.333333  37581.266664  0.458333\n",
       "30  CONE_Open   90.962798  0.333333  37579.036959  0.520833\n",
       "\n",
       "[359 rows x 5 columns]"
      ]
     },
     "execution_count": 8,
     "metadata": {},
     "output_type": "execute_result"
    }
   ],
   "source": [
    "pred_res.sort_values(['ACC_PLS'], ascending=False)"
   ]
  },
  {
   "cell_type": "code",
   "execution_count": 9,
   "id": "strong-mobile",
   "metadata": {},
   "outputs": [],
   "source": [
    "df = pd.read_csv(\"Y:\\\\Dropbox\\\\Dropbox (MIT)\\\\Robinhood Trading\\\\Stock Data\\\\broader_stock.csv\")\n",
    "df = df.set_index(pd.to_datetime(df['Date']))\n",
    "df.drop(['Date'], axis=1, inplace=True)\n",
    "pct_df = df.pct_change().shift(1).iloc[2:]"
   ]
  },
  {
   "cell_type": "code",
   "execution_count": 20,
   "id": "conditional-possession",
   "metadata": {},
   "outputs": [],
   "source": [
    "leader_tick_dict2 = {}\n",
    "w_mktre = (1 + pct_df['SPY_Close']).resample('W').prod() - 1\n",
    "tick = \"PAR_Open\"\n",
    "target_arr = pct_df[tick].dropna()\n",
    "w_target = (1 + target_arr).resample('W').prod() - 1\n",
    "Y = w_target.shift(-1)\n",
    "leader_set = []\n",
    "\n",
    "for leader in pct_df.columns[::3]:\n",
    "    if leader != tick:\n",
    "        leader_arr = pct_df[leader].dropna()\n",
    "        w_leader = (1 + leader_arr).resample('W').prod() - 1\n",
    "\n",
    "        tempreg_dta = pd.concat([Y, w_target, w_mktre, w_leader], axis=1).dropna()\n",
    "        tempreg_dta.columns = ['Y', 'Y-1', 'Mkt', 'Lead']\n",
    "\n",
    "        if tempreg_dta.shape[0] >= 36 * 4:\n",
    "            ols = sm.OLS(tempreg_dta['Y'].iloc[-36 * 4:],\n",
    "                         sm.add_constant(tempreg_dta[['Y-1', 'Mkt', 'Lead']].iloc[-36 * 4:]))\n",
    "            res = ols.fit(cov_type='HC0')\n",
    "            leader_sig = res.pvalues[3]\n",
    "\n",
    "        elif tempreg_dta.shape[0] >= 12 * 4:\n",
    "            ols = sm.OLS(tempreg_dta['Y'].iloc[-12 * 4:],\n",
    "                         sm.add_constant(tempreg_dta[['Y-1', 'Mkt', 'Lead']].iloc[-12 * 4:]))\n",
    "            res = ols.fit(cov_type='HC0')\n",
    "            leader_sig = res.pvalues[3]\n",
    "\n",
    "        else:\n",
    "            leader_sig = 1\n",
    "\n",
    "        if leader_sig <= 1e-3:\n",
    "            leader_set.append(leader)\n",
    "\n",
    "leader_tick_dict2[tick] = leader_set"
   ]
  },
  {
   "cell_type": "code",
   "execution_count": 16,
   "id": "latin-algorithm",
   "metadata": {},
   "outputs": [
    {
     "data": {
      "text/plain": [
       "{'PAR_Open': ['MDC_Open',\n",
       "  'UNFI_Open',\n",
       "  'LYV_Open',\n",
       "  'HRL_Open',\n",
       "  'CBSH_Open',\n",
       "  'AIR_Open',\n",
       "  'SWN_Open',\n",
       "  'GIS_Open',\n",
       "  'KODK_Open',\n",
       "  'WDC_Open',\n",
       "  'EXPR_Open',\n",
       "  'STAR_Open',\n",
       "  'PMT_Open',\n",
       "  'SCL_Open',\n",
       "  'CAR_Open',\n",
       "  'SJM_Open',\n",
       "  'OZK_Open',\n",
       "  'KHC_Open',\n",
       "  'K_Open']}"
      ]
     },
     "execution_count": 16,
     "metadata": {},
     "output_type": "execute_result"
    }
   ],
   "source": [
    "leader_tick_dict"
   ]
  },
  {
   "cell_type": "code",
   "execution_count": 21,
   "id": "placed-notebook",
   "metadata": {},
   "outputs": [
    {
     "data": {
      "text/plain": [
       "{'PAR_Open': ['WWE_Open',\n",
       "  'ASIX_Open',\n",
       "  'WH_Open',\n",
       "  'LW_Open',\n",
       "  'VVV_Open',\n",
       "  'JBGS_Open',\n",
       "  'FCPT_Open',\n",
       "  'ALT_Open',\n",
       "  'HRB_Open']}"
      ]
     },
     "execution_count": 21,
     "metadata": {},
     "output_type": "execute_result"
    }
   ],
   "source": [
    "leader_tick_dict2"
   ]
  },
  {
   "cell_type": "code",
   "execution_count": null,
   "id": "running-occurrence",
   "metadata": {},
   "outputs": [],
   "source": []
  }
 ],
 "metadata": {
  "kernelspec": {
   "display_name": "Python 3",
   "language": "python",
   "name": "python3"
  },
  "language_info": {
   "codemirror_mode": {
    "name": "ipython",
    "version": 3
   },
   "file_extension": ".py",
   "mimetype": "text/x-python",
   "name": "python",
   "nbconvert_exporter": "python",
   "pygments_lexer": "ipython3",
   "version": "3.7.10"
  }
 },
 "nbformat": 4,
 "nbformat_minor": 5
}
