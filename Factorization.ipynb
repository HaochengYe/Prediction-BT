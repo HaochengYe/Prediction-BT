{
 "cells": [
  {
   "cell_type": "code",
   "execution_count": 1,
   "id": "fatal-visitor",
   "metadata": {},
   "outputs": [],
   "source": [
    "import pandas as pd\n",
    "import numpy as np\n",
    "import matplotlib.pyplot as plt\n",
    "import os\n",
    "from datetime import datetime\n",
    "import statsmodels.api as sm\n",
    "from sklearn.metrics import accuracy_score, mean_squared_error\n",
    "from sklearn.cross_decomposition import PLSRegression\n",
    "from sklearn.linear_model import LinearRegression, ElasticNetCV\n",
    "from sklearn.model_selection import train_test_split\n",
    "\n",
    "from Strategy import *"
   ]
  },
  {
   "cell_type": "code",
   "execution_count": 2,
   "id": "broken-automation",
   "metadata": {},
   "outputs": [],
   "source": [
    "df = pd.read_csv(\"Y:\\\\Dropbox\\\\Dropbox (MIT)\\\\Robinhood Trading\\\\Stock Data\\\\broader_stock.csv\")"
   ]
  },
  {
   "cell_type": "code",
   "execution_count": 3,
   "id": "nonprofit-wallet",
   "metadata": {},
   "outputs": [],
   "source": [
    "df = df.iloc[:-1]"
   ]
  },
  {
   "cell_type": "code",
   "execution_count": 4,
   "id": "governmental-nashville",
   "metadata": {},
   "outputs": [],
   "source": [
    "for tick in df.columns[1:]:\n",
    "    initpos = df[tick].first_valid_index()\n",
    "    df[tick].iloc[initpos:] = df[tick].iloc[initpos:].interpolate()"
   ]
  },
  {
   "cell_type": "code",
   "execution_count": 5,
   "id": "premium-newfoundland",
   "metadata": {},
   "outputs": [],
   "source": [
    "df = df.set_index(pd.to_datetime(df['Date']))\n",
    "df.drop(['Date'], axis=1, inplace=True)\n",
    "pct_df = df.pct_change().shift(1).iloc[2:]"
   ]
  },
  {
   "cell_type": "code",
   "execution_count": 6,
   "id": "buried-hollow",
   "metadata": {},
   "outputs": [],
   "source": [
    "train_dta, test_dta = train_test_split(pct_df, test_size=0.01, shuffle=False)"
   ]
  },
  {
   "cell_type": "markdown",
   "id": "republican-anniversary",
   "metadata": {},
   "source": [
    "### Partial out $R_m$ from individual return series\n",
    "Using only the past 200 observations"
   ]
  },
  {
   "cell_type": "code",
   "execution_count": 26,
   "id": "peripheral-respondent",
   "metadata": {},
   "outputs": [],
   "source": [
    "residual = []"
   ]
  },
  {
   "cell_type": "code",
   "execution_count": 27,
   "id": "confident-dimension",
   "metadata": {},
   "outputs": [],
   "source": [
    "for tick in train_dta.columns[::3][:50]:\n",
    "    rm = train_dta['SPY_Open']\n",
    "    rint = df['^TNX_Open'].loc[train_dta.index]\n",
    "    ri = train_dta[tick]\n",
    "    temp = pd.concat([ri, rm, rint], axis=1).dropna().iloc[-1000:]\n",
    "\n",
    "    y = temp[temp.columns[0]].values\n",
    "    X = temp[temp.columns[1:]].values\n",
    "\n",
    "    reg = ElasticNetCV(cv=10, n_jobs=-1).fit(X, y)\n",
    "    yhat = reg.predict(X)\n",
    "    eps = y - yhat\n",
    "    residual.append(eps)"
   ]
  },
  {
   "cell_type": "code",
   "execution_count": 28,
   "id": "ordinary-multimedia",
   "metadata": {},
   "outputs": [],
   "source": [
    "RES = np.column_stack(residual)"
   ]
  },
  {
   "cell_type": "markdown",
   "id": "going-publication",
   "metadata": {},
   "source": [
    "### Use different dimension reduction techniques to combine the features"
   ]
  },
  {
   "cell_type": "code",
   "execution_count": 14,
   "id": "uniform-repeat",
   "metadata": {},
   "outputs": [],
   "source": [
    "from sklearn.decomposition import SparsePCA, PCA, FactorAnalysis"
   ]
  },
  {
   "cell_type": "code",
   "execution_count": 29,
   "id": "middle-asset",
   "metadata": {},
   "outputs": [],
   "source": [
    "decom_method = [SparsePCA(n_jobs=-1), PCA(), FactorAnalysis()]\n",
    "decom_dict = {}"
   ]
  },
  {
   "cell_type": "code",
   "execution_count": 30,
   "id": "altered-mother",
   "metadata": {},
   "outputs": [],
   "source": [
    "for method in decom_method:\n",
    "    decom = method.fit_transform(RES)\n",
    "    exp_var = np.var(decom, axis=0, ddof=1) / sum(np.var(decom, axis=0, ddof=1))\n",
    "    ttl_var = float()\n",
    "    comp = 0\n",
    "    while ttl_var <= 0.9:\n",
    "        ttl_var += exp_var[comp]\n",
    "        comp += 1\n",
    "    decom_dict[method] = decom[:, :comp]"
   ]
  },
  {
   "cell_type": "markdown",
   "id": "inside-knowing",
   "metadata": {},
   "source": [
    "### Ensemble method for Prediction"
   ]
  },
  {
   "cell_type": "code",
   "execution_count": 86,
   "id": "overhead-masters",
   "metadata": {},
   "outputs": [],
   "source": [
    "from sklearn.ensemble import GradientBoostingClassifier, RandomForestClassifier\n",
    "from sklearn.model_selection import RandomizedSearchCV\n",
    "from scipy.stats import expon, uniform, randint"
   ]
  },
  {
   "cell_type": "code",
   "execution_count": 96,
   "id": "special-missile",
   "metadata": {},
   "outputs": [],
   "source": [
    "param_grid = {\n",
    "    'n_estimators': randint(low=5,high=30),\n",
    "    'max_depth': randint(low=5,high=20),\n",
    "    'min_samples_split': randint(low=10,high=50),\n",
    "    'ccp_alpha': scipy.stats.expon(scale=.1)\n",
    "}\n",
    "\n",
    "estimator = [GradientBoostingClassifier(), RandomForestClassifier(n_jobs=-1)]"
   ]
  },
  {
   "cell_type": "code",
   "execution_count": 99,
   "id": "union-bench",
   "metadata": {},
   "outputs": [],
   "source": [
    "tick = 'TQQQ_Open'\n",
    "candidate_models = []"
   ]
  },
  {
   "cell_type": "code",
   "execution_count": 98,
   "id": "joined-mongolia",
   "metadata": {},
   "outputs": [
    {
     "name": "stdout",
     "output_type": "stream",
     "text": [
      "method: SparsePCA(n_jobs=-1) estimator: GradientBoostingClassifier()\n",
      "0.5835829145728643 GradientBoostingClassifier(ccp_alpha=0.11161454530671927, max_depth=18,\n",
      "                           min_samples_split=22, n_estimators=29)\n",
      "\n",
      "\n",
      "method: SparsePCA(n_jobs=-1) estimator: RandomForestClassifier(n_jobs=-1)\n",
      "0.5835829145728643 RandomForestClassifier(ccp_alpha=0.16729005578804138, max_depth=6,\n",
      "                       min_samples_split=19, n_estimators=15, n_jobs=-1)\n",
      "\n",
      "\n",
      "method: PCA() estimator: GradientBoostingClassifier()\n",
      "0.5835829145728643 GradientBoostingClassifier(ccp_alpha=0.041783726615162935, max_depth=7,\n",
      "                           min_samples_split=35, n_estimators=16)\n",
      "\n",
      "\n",
      "method: PCA() estimator: RandomForestClassifier(n_jobs=-1)\n",
      "0.5835829145728643 RandomForestClassifier(ccp_alpha=0.2186444370398454, max_depth=7,\n",
      "                       min_samples_split=20, n_estimators=13, n_jobs=-1)\n",
      "\n",
      "\n",
      "method: FactorAnalysis() estimator: GradientBoostingClassifier()\n",
      "0.5835829145728643 GradientBoostingClassifier(ccp_alpha=0.06695120254865211, max_depth=19,\n",
      "                           min_samples_split=36, n_estimators=17)\n",
      "\n",
      "\n",
      "method: FactorAnalysis() estimator: RandomForestClassifier(n_jobs=-1)\n",
      "0.5915979899497488 RandomForestClassifier(ccp_alpha=0.008904441246876038, max_depth=15,\n",
      "                       min_samples_split=44, n_estimators=25, n_jobs=-1)\n",
      "\n",
      "\n"
     ]
    }
   ],
   "source": [
    "Y = train_dta[tick].shift(-1).dropna().values\n",
    "Y = (Y > 0).astype(int)\n",
    "for method in list(decom_dict):\n",
    "    hist_length = min((Y.shape[0], decom_dict[method].shape[0]))\n",
    "    feature_X = decom_dict[method][-hist_length-1:-1,]\n",
    "    feature_Y = Y[-hist_length+1:,]\n",
    "    for est in estimator:\n",
    "        clf = RandomizedSearchCV(est, param_grid)\n",
    "        search = clf.fit(feature_X, feature_Y)\n",
    "        print(\"method:\", method, \"estimator:\", est)\n",
    "        print(search.best_score_, search.best_estimator_)\n",
    "        print(\"\\n\")\n",
    "        candidate_models.append(search.best_estimator_)"
   ]
  },
  {
   "cell_type": "code",
   "execution_count": 61,
   "id": "forward-steal",
   "metadata": {},
   "outputs": [
    {
     "data": {
      "text/plain": [
       "(999, 10)"
      ]
     },
     "execution_count": 61,
     "metadata": {},
     "output_type": "execute_result"
    }
   ],
   "source": [
    "feature_X.shape"
   ]
  },
  {
   "cell_type": "code",
   "execution_count": 65,
   "id": "endless-valuable",
   "metadata": {},
   "outputs": [
    {
     "data": {
      "text/plain": [
       "(999,)"
      ]
     },
     "execution_count": 65,
     "metadata": {},
     "output_type": "execute_result"
    }
   ],
   "source": [
    "feature_Y.shape"
   ]
  },
  {
   "cell_type": "code",
   "execution_count": 51,
   "id": "defensive-cassette",
   "metadata": {},
   "outputs": [
    {
     "data": {
      "text/plain": [
       "2748"
      ]
     },
     "execution_count": 51,
     "metadata": {},
     "output_type": "execute_result"
    }
   ],
   "source": [
    "Y.shape[0]"
   ]
  },
  {
   "cell_type": "code",
   "execution_count": 91,
   "id": "fluid-technician",
   "metadata": {},
   "outputs": [
    {
     "data": {
      "text/plain": [
       "<scipy.stats._distn_infrastructure.rv_frozen at 0x18361f6bc08>"
      ]
     },
     "execution_count": 91,
     "metadata": {},
     "output_type": "execute_result"
    }
   ],
   "source": [
    "randint(low=5,high=50)"
   ]
  },
  {
   "cell_type": "code",
   "execution_count": null,
   "id": "frozen-debate",
   "metadata": {},
   "outputs": [],
   "source": [
    "for tick in train_dta.columns[::3][:50]:\n",
    "    Y = train_dta[tick].shift(-1).values\n",
    "    Y = (Y > 0).astype(int)\n",
    "    for method in list(decom_dict):\n",
    "        hist_length = min((Y.shape[0], decom_dict[method].shape[0]))\n",
    "        feature_X = decom_dict[method][-hist_length:-1, :]\n",
    "        "
   ]
  },
  {
   "cell_type": "code",
   "execution_count": null,
   "id": "generic-howard",
   "metadata": {},
   "outputs": [],
   "source": []
  },
  {
   "cell_type": "code",
   "execution_count": 49,
   "id": "built-point",
   "metadata": {},
   "outputs": [
    {
     "data": {
      "text/html": [
       "<div>\n",
       "<style scoped>\n",
       "    .dataframe tbody tr th:only-of-type {\n",
       "        vertical-align: middle;\n",
       "    }\n",
       "\n",
       "    .dataframe tbody tr th {\n",
       "        vertical-align: top;\n",
       "    }\n",
       "\n",
       "    .dataframe thead th {\n",
       "        text-align: right;\n",
       "    }\n",
       "</style>\n",
       "<table border=\"1\" class=\"dataframe\">\n",
       "  <thead>\n",
       "    <tr style=\"text-align: right;\">\n",
       "      <th></th>\n",
       "      <th>TQQQ_Open</th>\n",
       "      <th>TQQQ_Close</th>\n",
       "      <th>TQQQ_Volume</th>\n",
       "      <th>AME_Open</th>\n",
       "      <th>AME_Close</th>\n",
       "      <th>AME_Volume</th>\n",
       "      <th>NOW_Open</th>\n",
       "      <th>NOW_Close</th>\n",
       "      <th>NOW_Volume</th>\n",
       "      <th>XYL_Open</th>\n",
       "      <th>...</th>\n",
       "      <th>BABA_Volume</th>\n",
       "      <th>NIO_Open</th>\n",
       "      <th>NIO_Close</th>\n",
       "      <th>NIO_Volume</th>\n",
       "      <th>UVXY_Open</th>\n",
       "      <th>UVXY_Close</th>\n",
       "      <th>UVXY_Volume</th>\n",
       "      <th>^TNX_Open</th>\n",
       "      <th>^TNX_Close</th>\n",
       "      <th>^TNX_Volume</th>\n",
       "    </tr>\n",
       "    <tr>\n",
       "      <th>Date</th>\n",
       "      <th></th>\n",
       "      <th></th>\n",
       "      <th></th>\n",
       "      <th></th>\n",
       "      <th></th>\n",
       "      <th></th>\n",
       "      <th></th>\n",
       "      <th></th>\n",
       "      <th></th>\n",
       "      <th></th>\n",
       "      <th></th>\n",
       "      <th></th>\n",
       "      <th></th>\n",
       "      <th></th>\n",
       "      <th></th>\n",
       "      <th></th>\n",
       "      <th></th>\n",
       "      <th></th>\n",
       "      <th></th>\n",
       "      <th></th>\n",
       "      <th></th>\n",
       "    </tr>\n",
       "  </thead>\n",
       "  <tbody>\n",
       "    <tr>\n",
       "      <th>2000-01-05</th>\n",
       "      <td>NaN</td>\n",
       "      <td>NaN</td>\n",
       "      <td>NaN</td>\n",
       "      <td>0.000000</td>\n",
       "      <td>-0.004167</td>\n",
       "      <td>-0.558548</td>\n",
       "      <td>NaN</td>\n",
       "      <td>NaN</td>\n",
       "      <td>NaN</td>\n",
       "      <td>NaN</td>\n",
       "      <td>...</td>\n",
       "      <td>NaN</td>\n",
       "      <td>NaN</td>\n",
       "      <td>NaN</td>\n",
       "      <td>NaN</td>\n",
       "      <td>NaN</td>\n",
       "      <td>NaN</td>\n",
       "      <td>NaN</td>\n",
       "      <td>0.004925</td>\n",
       "      <td>-0.009621</td>\n",
       "      <td>NaN</td>\n",
       "    </tr>\n",
       "    <tr>\n",
       "      <th>2000-01-06</th>\n",
       "      <td>NaN</td>\n",
       "      <td>NaN</td>\n",
       "      <td>NaN</td>\n",
       "      <td>-0.008333</td>\n",
       "      <td>0.012552</td>\n",
       "      <td>-0.445623</td>\n",
       "      <td>NaN</td>\n",
       "      <td>NaN</td>\n",
       "      <td>NaN</td>\n",
       "      <td>NaN</td>\n",
       "      <td>...</td>\n",
       "      <td>NaN</td>\n",
       "      <td>NaN</td>\n",
       "      <td>NaN</td>\n",
       "      <td>NaN</td>\n",
       "      <td>NaN</td>\n",
       "      <td>NaN</td>\n",
       "      <td>NaN</td>\n",
       "      <td>-0.001378</td>\n",
       "      <td>0.017579</td>\n",
       "      <td>NaN</td>\n",
       "    </tr>\n",
       "    <tr>\n",
       "      <th>2000-01-07</th>\n",
       "      <td>NaN</td>\n",
       "      <td>NaN</td>\n",
       "      <td>NaN</td>\n",
       "      <td>0.016807</td>\n",
       "      <td>-0.008264</td>\n",
       "      <td>-0.076555</td>\n",
       "      <td>NaN</td>\n",
       "      <td>NaN</td>\n",
       "      <td>NaN</td>\n",
       "      <td>NaN</td>\n",
       "      <td>...</td>\n",
       "      <td>NaN</td>\n",
       "      <td>NaN</td>\n",
       "      <td>NaN</td>\n",
       "      <td>NaN</td>\n",
       "      <td>NaN</td>\n",
       "      <td>NaN</td>\n",
       "      <td>NaN</td>\n",
       "      <td>0.005674</td>\n",
       "      <td>-0.007577</td>\n",
       "      <td>NaN</td>\n",
       "    </tr>\n",
       "    <tr>\n",
       "      <th>2000-01-10</th>\n",
       "      <td>NaN</td>\n",
       "      <td>NaN</td>\n",
       "      <td>NaN</td>\n",
       "      <td>-0.016529</td>\n",
       "      <td>0.012500</td>\n",
       "      <td>0.409326</td>\n",
       "      <td>NaN</td>\n",
       "      <td>NaN</td>\n",
       "      <td>NaN</td>\n",
       "      <td>NaN</td>\n",
       "      <td>...</td>\n",
       "      <td>NaN</td>\n",
       "      <td>NaN</td>\n",
       "      <td>NaN</td>\n",
       "      <td>NaN</td>\n",
       "      <td>NaN</td>\n",
       "      <td>NaN</td>\n",
       "      <td>NaN</td>\n",
       "      <td>-0.001982</td>\n",
       "      <td>-0.006871</td>\n",
       "      <td>NaN</td>\n",
       "    </tr>\n",
       "    <tr>\n",
       "      <th>2000-01-11</th>\n",
       "      <td>NaN</td>\n",
       "      <td>NaN</td>\n",
       "      <td>NaN</td>\n",
       "      <td>0.029412</td>\n",
       "      <td>0.032922</td>\n",
       "      <td>-0.511029</td>\n",
       "      <td>NaN</td>\n",
       "      <td>NaN</td>\n",
       "      <td>NaN</td>\n",
       "      <td>NaN</td>\n",
       "      <td>...</td>\n",
       "      <td>NaN</td>\n",
       "      <td>NaN</td>\n",
       "      <td>NaN</td>\n",
       "      <td>NaN</td>\n",
       "      <td>NaN</td>\n",
       "      <td>NaN</td>\n",
       "      <td>NaN</td>\n",
       "      <td>-0.000764</td>\n",
       "      <td>0.008303</td>\n",
       "      <td>NaN</td>\n",
       "    </tr>\n",
       "    <tr>\n",
       "      <th>...</th>\n",
       "      <td>...</td>\n",
       "      <td>...</td>\n",
       "      <td>...</td>\n",
       "      <td>...</td>\n",
       "      <td>...</td>\n",
       "      <td>...</td>\n",
       "      <td>...</td>\n",
       "      <td>...</td>\n",
       "      <td>...</td>\n",
       "      <td>...</td>\n",
       "      <td>...</td>\n",
       "      <td>...</td>\n",
       "      <td>...</td>\n",
       "      <td>...</td>\n",
       "      <td>...</td>\n",
       "      <td>...</td>\n",
       "      <td>...</td>\n",
       "      <td>...</td>\n",
       "      <td>...</td>\n",
       "      <td>...</td>\n",
       "      <td>...</td>\n",
       "    </tr>\n",
       "    <tr>\n",
       "      <th>2020-12-31</th>\n",
       "      <td>0.000439</td>\n",
       "      <td>-0.000222</td>\n",
       "      <td>-0.134843</td>\n",
       "      <td>-0.010488</td>\n",
       "      <td>0.009792</td>\n",
       "      <td>0.114227</td>\n",
       "      <td>0.001090</td>\n",
       "      <td>0.002564</td>\n",
       "      <td>-0.373610</td>\n",
       "      <td>-0.012092</td>\n",
       "      <td>...</td>\n",
       "      <td>-0.357215</td>\n",
       "      <td>0.064073</td>\n",
       "      <td>0.048548</td>\n",
       "      <td>-0.033128</td>\n",
       "      <td>0.068702</td>\n",
       "      <td>-0.051418</td>\n",
       "      <td>-0.264140</td>\n",
       "      <td>-0.007368</td>\n",
       "      <td>-0.009626</td>\n",
       "      <td>NaN</td>\n",
       "    </tr>\n",
       "    <tr>\n",
       "      <th>2021-01-01</th>\n",
       "      <td>-0.011840</td>\n",
       "      <td>0.007872</td>\n",
       "      <td>0.018136</td>\n",
       "      <td>0.008580</td>\n",
       "      <td>0.009279</td>\n",
       "      <td>0.461556</td>\n",
       "      <td>-0.006917</td>\n",
       "      <td>0.005572</td>\n",
       "      <td>0.146182</td>\n",
       "      <td>0.008227</td>\n",
       "      <td>...</td>\n",
       "      <td>-0.477668</td>\n",
       "      <td>0.042151</td>\n",
       "      <td>0.007441</td>\n",
       "      <td>0.106545</td>\n",
       "      <td>-0.049107</td>\n",
       "      <td>-0.004673</td>\n",
       "      <td>0.090282</td>\n",
       "      <td>-0.016967</td>\n",
       "      <td>-0.009719</td>\n",
       "      <td>NaN</td>\n",
       "    </tr>\n",
       "    <tr>\n",
       "      <th>2021-01-04</th>\n",
       "      <td>0.010539</td>\n",
       "      <td>-0.021837</td>\n",
       "      <td>0.425291</td>\n",
       "      <td>0.004170</td>\n",
       "      <td>-0.010560</td>\n",
       "      <td>0.403789</td>\n",
       "      <td>0.009077</td>\n",
       "      <td>-0.021438</td>\n",
       "      <td>0.920665</td>\n",
       "      <td>0.006220</td>\n",
       "      <td>...</td>\n",
       "      <td>0.031850</td>\n",
       "      <td>0.028271</td>\n",
       "      <td>0.048728</td>\n",
       "      <td>0.325210</td>\n",
       "      <td>-0.000469</td>\n",
       "      <td>0.064789</td>\n",
       "      <td>0.711341</td>\n",
       "      <td>0.004315</td>\n",
       "      <td>0.000000</td>\n",
       "      <td>NaN</td>\n",
       "    </tr>\n",
       "    <tr>\n",
       "      <th>2021-01-05</th>\n",
       "      <td>0.010429</td>\n",
       "      <td>-0.022325</td>\n",
       "      <td>0.298389</td>\n",
       "      <td>0.004153</td>\n",
       "      <td>-0.010673</td>\n",
       "      <td>0.287642</td>\n",
       "      <td>0.008995</td>\n",
       "      <td>-0.021907</td>\n",
       "      <td>0.479347</td>\n",
       "      <td>0.006181</td>\n",
       "      <td>...</td>\n",
       "      <td>0.030866</td>\n",
       "      <td>0.027493</td>\n",
       "      <td>0.046464</td>\n",
       "      <td>0.245402</td>\n",
       "      <td>-0.000470</td>\n",
       "      <td>0.060847</td>\n",
       "      <td>0.415663</td>\n",
       "      <td>0.004296</td>\n",
       "      <td>0.000000</td>\n",
       "      <td>NaN</td>\n",
       "    </tr>\n",
       "    <tr>\n",
       "      <th>2021-01-06</th>\n",
       "      <td>-0.064103</td>\n",
       "      <td>0.025078</td>\n",
       "      <td>-0.398837</td>\n",
       "      <td>-0.026220</td>\n",
       "      <td>0.006853</td>\n",
       "      <td>-0.274664</td>\n",
       "      <td>-0.055482</td>\n",
       "      <td>0.009756</td>\n",
       "      <td>-0.182617</td>\n",
       "      <td>-0.022410</td>\n",
       "      <td>...</td>\n",
       "      <td>0.438828</td>\n",
       "      <td>0.015039</td>\n",
       "      <td>-0.005422</td>\n",
       "      <td>-0.307986</td>\n",
       "      <td>0.172932</td>\n",
       "      <td>-0.046550</td>\n",
       "      <td>-0.344632</td>\n",
       "      <td>0.002139</td>\n",
       "      <td>0.041439</td>\n",
       "      <td>NaN</td>\n",
       "    </tr>\n",
       "  </tbody>\n",
       "</table>\n",
       "<p>5295 rows × 4179 columns</p>\n",
       "</div>"
      ],
      "text/plain": [
       "            TQQQ_Open  TQQQ_Close  TQQQ_Volume  AME_Open  AME_Close  \\\n",
       "Date                                                                  \n",
       "2000-01-05        NaN         NaN          NaN  0.000000  -0.004167   \n",
       "2000-01-06        NaN         NaN          NaN -0.008333   0.012552   \n",
       "2000-01-07        NaN         NaN          NaN  0.016807  -0.008264   \n",
       "2000-01-10        NaN         NaN          NaN -0.016529   0.012500   \n",
       "2000-01-11        NaN         NaN          NaN  0.029412   0.032922   \n",
       "...               ...         ...          ...       ...        ...   \n",
       "2020-12-31   0.000439   -0.000222    -0.134843 -0.010488   0.009792   \n",
       "2021-01-01  -0.011840    0.007872     0.018136  0.008580   0.009279   \n",
       "2021-01-04   0.010539   -0.021837     0.425291  0.004170  -0.010560   \n",
       "2021-01-05   0.010429   -0.022325     0.298389  0.004153  -0.010673   \n",
       "2021-01-06  -0.064103    0.025078    -0.398837 -0.026220   0.006853   \n",
       "\n",
       "            AME_Volume  NOW_Open  NOW_Close  NOW_Volume  XYL_Open  ...  \\\n",
       "Date                                                               ...   \n",
       "2000-01-05   -0.558548       NaN        NaN         NaN       NaN  ...   \n",
       "2000-01-06   -0.445623       NaN        NaN         NaN       NaN  ...   \n",
       "2000-01-07   -0.076555       NaN        NaN         NaN       NaN  ...   \n",
       "2000-01-10    0.409326       NaN        NaN         NaN       NaN  ...   \n",
       "2000-01-11   -0.511029       NaN        NaN         NaN       NaN  ...   \n",
       "...                ...       ...        ...         ...       ...  ...   \n",
       "2020-12-31    0.114227  0.001090   0.002564   -0.373610 -0.012092  ...   \n",
       "2021-01-01    0.461556 -0.006917   0.005572    0.146182  0.008227  ...   \n",
       "2021-01-04    0.403789  0.009077  -0.021438    0.920665  0.006220  ...   \n",
       "2021-01-05    0.287642  0.008995  -0.021907    0.479347  0.006181  ...   \n",
       "2021-01-06   -0.274664 -0.055482   0.009756   -0.182617 -0.022410  ...   \n",
       "\n",
       "            BABA_Volume  NIO_Open  NIO_Close  NIO_Volume  UVXY_Open  \\\n",
       "Date                                                                  \n",
       "2000-01-05          NaN       NaN        NaN         NaN        NaN   \n",
       "2000-01-06          NaN       NaN        NaN         NaN        NaN   \n",
       "2000-01-07          NaN       NaN        NaN         NaN        NaN   \n",
       "2000-01-10          NaN       NaN        NaN         NaN        NaN   \n",
       "2000-01-11          NaN       NaN        NaN         NaN        NaN   \n",
       "...                 ...       ...        ...         ...        ...   \n",
       "2020-12-31    -0.357215  0.064073   0.048548   -0.033128   0.068702   \n",
       "2021-01-01    -0.477668  0.042151   0.007441    0.106545  -0.049107   \n",
       "2021-01-04     0.031850  0.028271   0.048728    0.325210  -0.000469   \n",
       "2021-01-05     0.030866  0.027493   0.046464    0.245402  -0.000470   \n",
       "2021-01-06     0.438828  0.015039  -0.005422   -0.307986   0.172932   \n",
       "\n",
       "            UVXY_Close  UVXY_Volume  ^TNX_Open  ^TNX_Close  ^TNX_Volume  \n",
       "Date                                                                     \n",
       "2000-01-05         NaN          NaN   0.004925   -0.009621          NaN  \n",
       "2000-01-06         NaN          NaN  -0.001378    0.017579          NaN  \n",
       "2000-01-07         NaN          NaN   0.005674   -0.007577          NaN  \n",
       "2000-01-10         NaN          NaN  -0.001982   -0.006871          NaN  \n",
       "2000-01-11         NaN          NaN  -0.000764    0.008303          NaN  \n",
       "...                ...          ...        ...         ...          ...  \n",
       "2020-12-31   -0.051418    -0.264140  -0.007368   -0.009626          NaN  \n",
       "2021-01-01   -0.004673     0.090282  -0.016967   -0.009719          NaN  \n",
       "2021-01-04    0.064789     0.711341   0.004315    0.000000          NaN  \n",
       "2021-01-05    0.060847     0.415663   0.004296    0.000000          NaN  \n",
       "2021-01-06   -0.046550    -0.344632   0.002139    0.041439          NaN  \n",
       "\n",
       "[5295 rows x 4179 columns]"
      ]
     },
     "execution_count": 49,
     "metadata": {},
     "output_type": "execute_result"
    }
   ],
   "source": [
    "train_dta"
   ]
  },
  {
   "cell_type": "code",
   "execution_count": null,
   "id": "comparable-notebook",
   "metadata": {},
   "outputs": [],
   "source": []
  },
  {
   "cell_type": "code",
   "execution_count": null,
   "id": "thirty-candy",
   "metadata": {},
   "outputs": [],
   "source": []
  },
  {
   "cell_type": "code",
   "execution_count": null,
   "id": "pursuant-friendship",
   "metadata": {},
   "outputs": [],
   "source": []
  },
  {
   "cell_type": "code",
   "execution_count": 243,
   "id": "legitimate-kuwait",
   "metadata": {},
   "outputs": [],
   "source": [
    "reglm = LinearRegression().fit(X,y)"
   ]
  },
  {
   "cell_type": "code",
   "execution_count": 244,
   "id": "solid-victim",
   "metadata": {},
   "outputs": [],
   "source": [
    "rm = test_dta['SPY_Open']\n",
    "rint = df['^TNX_Open'].loc[test_dta.index]\n",
    "ri = test_dta['V_Open']\n",
    "temp_test = pd.concat([ri, rm, rint], axis=1).dropna()"
   ]
  },
  {
   "cell_type": "code",
   "execution_count": 245,
   "id": "contrary-highlight",
   "metadata": {},
   "outputs": [],
   "source": [
    "y_test = temp_test[temp_test.columns[0]].values\n",
    "X_test = temp_test[temp_test.columns[1:]].values"
   ]
  },
  {
   "cell_type": "code",
   "execution_count": 246,
   "id": "dressed-diabetes",
   "metadata": {},
   "outputs": [
    {
     "data": {
      "text/plain": [
       "0.752122173966991"
      ]
     },
     "execution_count": 246,
     "metadata": {},
     "output_type": "execute_result"
    }
   ],
   "source": [
    "reg.score(X,y)"
   ]
  },
  {
   "cell_type": "code",
   "execution_count": 247,
   "id": "regular-central",
   "metadata": {},
   "outputs": [
    {
     "data": {
      "text/plain": [
       "0.7521238460816104"
      ]
     },
     "execution_count": 247,
     "metadata": {},
     "output_type": "execute_result"
    }
   ],
   "source": [
    "reglm.score(X, y)"
   ]
  },
  {
   "cell_type": "code",
   "execution_count": 248,
   "id": "driven-paper",
   "metadata": {},
   "outputs": [
    {
     "data": {
      "text/plain": [
       "0.2583277874678218"
      ]
     },
     "execution_count": 248,
     "metadata": {},
     "output_type": "execute_result"
    }
   ],
   "source": [
    "reg.score(X_test, y_test)"
   ]
  },
  {
   "cell_type": "code",
   "execution_count": 249,
   "id": "spatial-cricket",
   "metadata": {},
   "outputs": [
    {
     "data": {
      "text/plain": [
       "0.2582859063212264"
      ]
     },
     "execution_count": 249,
     "metadata": {},
     "output_type": "execute_result"
    }
   ],
   "source": [
    "reglm.score(X_test, y_test)"
   ]
  },
  {
   "cell_type": "code",
   "execution_count": null,
   "id": "posted-black",
   "metadata": {},
   "outputs": [],
   "source": []
  }
 ],
 "metadata": {
  "kernelspec": {
   "display_name": "Python 3",
   "language": "python",
   "name": "python3"
  },
  "language_info": {
   "codemirror_mode": {
    "name": "ipython",
    "version": 3
   },
   "file_extension": ".py",
   "mimetype": "text/x-python",
   "name": "python",
   "nbconvert_exporter": "python",
   "pygments_lexer": "ipython3",
   "version": "3.7.10"
  }
 },
 "nbformat": 4,
 "nbformat_minor": 5
}
